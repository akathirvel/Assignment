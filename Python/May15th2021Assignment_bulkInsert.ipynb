{
 "cells": [
  {
   "cell_type": "code",
   "execution_count": 7,
   "metadata": {},
   "outputs": [
    {
     "name": "stdout",
     "output_type": "stream",
     "text": [
      "InsertData class initiated\n",
      "creating DB Connection.....\n",
      "Insert values into Table\n",
      "DB commit done\n",
      "Connection closed\n"
     ]
    }
   ],
   "source": [
    "import csv\n",
    "import mysql.connector as mySqlDriver\n",
    "\n",
    "\n",
    "class InsertData:\n",
    "    \n",
    "    \n",
    "    \n",
    "    def __init__(self,truncateFlag: bool ):\n",
    "        print('InsertData class initiated')\n",
    "        self.truncateFlag = truncateFlag;\n",
    "        self.insertQuery = 'INSERT into mydb.carbon_nanotubes (C_indice_n ,C_indice_m ,I_atomic_coor_u ,I_atomic_coor_v ,I_atomic_coor_w ,Cal_atomic_coor_u ,Cal_atomic_coor_v ,Cal_atomic_coor_w) values(%s,%s,%s,%s,%s,%s,%s,%s);'\n",
    "        self.__makeConnection()\n",
    "        \n",
    "    def insertRecord(self):\n",
    "        try:\n",
    "            with open('carbon_nanotubes.csv','r') as data:\n",
    "                d_reader = csv.reader(data,delimiter=\";\")\n",
    "                count = 0;\n",
    "                insertValues = [];\n",
    "                for row in enumerate(d_reader):\n",
    "                    valueStr = \"\"\n",
    "                    count = count + 1;\n",
    "                    if (count == 1):\n",
    "                        continue\n",
    "                    insertValues.append(tuple(row[1]))\n",
    "                \n",
    "                print (\"Insert values into Table\")\n",
    "                 \n",
    "                self.cursor.executemany(self.insertQuery,insertValues);\n",
    "                self.conn.commit()\n",
    "                print (\"DB commit done\")\n",
    "                \n",
    "                \"\"\"\n",
    "                   for dd in row[1]:\n",
    "                        valueStr = valueStr+\"'\" + dd+\"',\"\n",
    "                    # remove the last character(extra comma)\n",
    "                    valueStr = valueStr[:-1]\n",
    "                    tempInsertQuery = self.insertQuery.format(valueStr)\n",
    "                    print (tempInsertQuery)\n",
    "                \"\"\"      \n",
    "        except FileNotFoundError as e:\n",
    "            print('File not found',e)\n",
    "        except Exception as e:\n",
    "            print('other error ',e)\n",
    "        finally:\n",
    "             if (self.conn.is_connected()):\n",
    "                    self.conn.close()\n",
    "                    print('Connection closed')\n",
    "                    \n",
    "\n",
    "\n",
    "    def __makeConnection(self):\n",
    "        print('creating DB Connection.....')\n",
    "        self.conn = mySqlDriver.connect(user='root', password='root', host='127.0.0.1', database='mydb')\n",
    "        self.cursor = self.conn.cursor();\n",
    "        #Create new table if not exists\n",
    "        self.cursor.execute('CREATE TABLE IF NOT EXISTS carbon_nanotubes (C_indice_n VARCHAR(100) ,C_indice_m VARCHAR(100)  ,I_atomic_coor_u VARCHAR(100)  ,\tI_atomic_coor_v VARCHAR(100)  ,\tI_atomic_coor_w VARCHAR(100)  ,\tCal_atomic_coor_u VARCHAR(100)  ,\tCal_atomic_coor_v VARCHAR(100)  ,\tCal_atomic_coor_w VARCHAR(100) )')\n",
    "        if (self.truncateFlag):\n",
    "            #truncate the previous record\n",
    "            self.cursor.execute('truncate table carbon_nanotubes');\n",
    "        #print(self.conn.is_connected())\n",
    "        #self.conn.close()\n",
    "        #print(self.conn.is_connected())\n",
    "\n",
    "x = InsertData(True)\n",
    "x.insertRecord()"
   ]
  },
  {
   "cell_type": "code",
   "execution_count": 16,
   "metadata": {},
   "outputs": [],
   "source": [
    "import mysql.connector as mySqlDriver\n",
    "#estiblish the  connection\n",
    "\n",
    "conn = mySqlDriver.connect(user='root', password='root', host='127.0.0.1', database='mydb')\n",
    "\n",
    "# Creating a cursor\n",
    "\n",
    "cursor = conn.cursor();\n",
    "\n",
    "#Execute the  Query \n",
    "cursor.execute('select database()')\n",
    "cursor.fetchall()\n",
    "conn.close()\n",
    "\n"
   ]
  }
 ],
 "metadata": {
  "kernelspec": {
   "display_name": "Python 3",
   "language": "python",
   "name": "python3"
  },
  "language_info": {
   "codemirror_mode": {
    "name": "ipython",
    "version": 3
   },
   "file_extension": ".py",
   "mimetype": "text/x-python",
   "name": "python",
   "nbconvert_exporter": "python",
   "pygments_lexer": "ipython3",
   "version": "3.8.5"
  }
 },
 "nbformat": 4,
 "nbformat_minor": 4
}
