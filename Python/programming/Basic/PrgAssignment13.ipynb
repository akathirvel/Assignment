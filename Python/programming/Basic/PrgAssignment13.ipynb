{
 "cells": [
  {
   "cell_type": "code",
   "execution_count": 42,
   "metadata": {},
   "outputs": [
    {
     "name": "stdout",
     "output_type": "stream",
     "text": [
      "No Key Found 3  consisder as 0\n",
      "No Key Found 1  consisder as 0\n",
      "['#', '#', 3, '!!!', 1]  Score is  5\n",
      "['!', '!!', '!!!', 'X']  Score is  0\n"
     ]
    }
   ],
   "source": [
    "score_dist = {\n",
    "    '#':5,'O':3,'X':1,'!':-1,'!!':-3,'!!!':-5\n",
    "    \n",
    "}\n",
    "''' \n",
    "return SYMBOL score , if  SYMBOL is  avalaible in Disctory\n",
    "return 0 if SYMBOL us not avalaible  - Handling the Error\n",
    "'''\n",
    "def get_symbol_score(symbol: str) -> int:\n",
    "    x = 0;\n",
    "    try:\n",
    "        x = score_dist[symbol];\n",
    "    except KeyError:\n",
    "        print('No Key Found',symbol,' & consisder as 0')\n",
    "    return x;\n",
    "\n",
    "def calculate_the_total_score(sourceList :list) -> None :\n",
    "    if (type(sourceList) == list ):\n",
    "        for subList in sourceList:\n",
    "            if (type(subList) == list ):\n",
    "                finalScore = 0;\n",
    "                for item in subList:\n",
    "                    finalScore = finalScore + get_symbol_score(item);\n",
    "                print(subList ,' Score is ',max([finalScore,0]))\n",
    "                \n",
    "calculate_the_total_score([['#','#',3,'!!!',1],['!','!!','!!!','X']]);"
   ]
  },
  {
   "cell_type": "code",
   "execution_count": 99,
   "metadata": {},
   "outputs": [
    {
     "data": {
      "text/plain": [
       "[None, None]"
      ]
     },
     "execution_count": 99,
     "metadata": {},
     "output_type": "execute_result"
    }
   ],
   "source": [
    "def appendList(*args) -> list:\n",
    "    x =[] ;\n",
    "    for i in args:\n",
    "        if (type(i) == list):\n",
    "            x = x+i;\n",
    "    return x;\n",
    "         \n",
    "appendList2([1,3,5,6],[5,678])"
   ]
  },
  {
   "cell_type": "code",
   "execution_count": 101,
   "metadata": {},
   "outputs": [
    {
     "data": {
      "text/plain": [
       "[[1, 2, 3], [4, 5, 6]]"
      ]
     },
     "execution_count": 101,
     "metadata": {},
     "output_type": "execute_result"
    }
   ],
   "source": [
    "def appendList2(*args) -> list:\n",
    "    return [i for  i in args if type(i) == list]\n",
    "\n",
    "appendList2([1,2,3],[4,5,6],0)"
   ]
  },
  {
   "cell_type": "code",
   "execution_count": 73,
   "metadata": {},
   "outputs": [
    {
     "name": "stdout",
     "output_type": "stream",
     "text": [
      "rtg\n"
     ]
    }
   ],
   "source": [
    "def test(**kwargs):\n",
    "    print(kwargs['v']);\n",
    "test(a='44',v='rtg')   "
   ]
  },
  {
   "cell_type": "code",
   "execution_count": 102,
   "metadata": {},
   "outputs": [
    {
     "name": "stdout",
     "output_type": "stream",
     "text": [
      "{<class 'int'>: [1, 3, 4], <class 'tuple'>: [(3, 4, 6), ('an', 'k', '5')], <class 'list'>: [[243, 6, 7]], <class 'str'>: ['aaaa', '8888'], <class 'bool'>: [True, False, True]}\n"
     ]
    }
   ],
   "source": [
    "def function1(*args):\n",
    "    d = {};\n",
    "    for i in args:\n",
    "        typeArgs = type(i);\n",
    "        try:\n",
    "            x = d[typeArgs]; \n",
    "            x.append(i)\n",
    "        except KeyError: \n",
    "            y = [];\n",
    "            y.append(i)\n",
    "            d[typeArgs] = y;\n",
    "            \n",
    "    print (d)\n",
    "function1(1,3,4,(3,4,6),[243,6,7],('an','k','5'),'aaaa','8888',True,False,True)"
   ]
  },
  {
   "cell_type": "code",
   "execution_count": 96,
   "metadata": {},
   "outputs": [
    {
     "data": {
      "text/plain": [
       "[None, None]"
      ]
     },
     "execution_count": 96,
     "metadata": {},
     "output_type": "execute_result"
    }
   ],
   "source": [
    "appendList2([1,3,5,6],[5,678])\n",
    "   "
   ]
  }
 ],
 "metadata": {
  "kernelspec": {
   "display_name": "Python 3",
   "language": "python",
   "name": "python3"
  },
  "language_info": {
   "codemirror_mode": {
    "name": "ipython",
    "version": 3
   },
   "file_extension": ".py",
   "mimetype": "text/x-python",
   "name": "python",
   "nbconvert_exporter": "python",
   "pygments_lexer": "ipython3",
   "version": "3.8.5"
  }
 },
 "nbformat": 4,
 "nbformat_minor": 4
}
