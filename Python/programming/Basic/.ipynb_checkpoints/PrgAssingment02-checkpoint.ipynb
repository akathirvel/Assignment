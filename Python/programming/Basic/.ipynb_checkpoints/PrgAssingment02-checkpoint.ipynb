{
 "cells": [
  {
   "cell_type": "code",
   "execution_count": 5,
   "metadata": {},
   "outputs": [
    {
     "name": "stdout",
     "output_type": "stream",
     "text": [
      "Enter the Kilometers to covert sgdgg\n",
      "Please Enter correct value\n",
      "Enter the Kilometers to covert 30\n",
      "Equals to Miles: 18.64113\n"
     ]
    }
   ],
   "source": [
    "#1) Write a Python program to convert kilometers to miles?\n",
    "convert_factor = 0.621371; #convertion value took from Google 1km=0.627miles\n",
    "intValue = 0;\n",
    "while (True):\n",
    "    inputString  = input('Enter the Kilometers to covert ');\n",
    "    if inputString.isnumeric():\n",
    "        intValue = int(inputString);\n",
    "        break;\n",
    "    else:\n",
    "        print ('Please Enter correct value');\n",
    "\n",
    "print('Equals to Miles:',intValue*convert_factor);"
   ]
  },
  {
   "cell_type": "code",
   "execution_count": 6,
   "metadata": {},
   "outputs": [
    {
     "name": "stdout",
     "output_type": "stream",
     "text": [
      "Enter the Kilometers to covert 37\n",
      "Equals to Miles: 98.60000000000001\n"
     ]
    }
   ],
   "source": [
    "# 2)Write a Python program to convert Celsius to Fahrenheit?\n",
    "# formual (1°C × 9/5) + 32 = 33.8°F\n",
    "#convert_factor = 33.8; #convertion value took from Google 1c=33.8f\n",
    "intValue = 0;\n",
    "while (True):\n",
    "    inputString  = input('Enter the Celsius to covert ');\n",
    "    if inputString.isnumeric():\n",
    "        intValue = int(inputString);\n",
    "        break;\n",
    "    else:\n",
    "        print ('Please Enter correct value');\n",
    "\n",
    "print('Equals to Fahrenheit:',(intValue*(9/5))+32);\n"
   ]
  },
  {
   "cell_type": "code",
   "execution_count": 19,
   "metadata": {},
   "outputs": [
    {
     "name": "stdout",
     "output_type": "stream",
     "text": [
      "                                                            2018\n",
      "\n",
      "      January                   February                   March                     April                      May\n",
      "Mo Tu We Th Fr Sa Su      Mo Tu We Th Fr Sa Su      Mo Tu We Th Fr Sa Su      Mo Tu We Th Fr Sa Su      Mo Tu We Th Fr Sa Su\n",
      " 1  2  3  4  5  6  7                1  2  3  4                1  2  3  4                         1          1  2  3  4  5  6\n",
      " 8  9 10 11 12 13 14       5  6  7  8  9 10 11       5  6  7  8  9 10 11       2  3  4  5  6  7  8       7  8  9 10 11 12 13\n",
      "15 16 17 18 19 20 21      12 13 14 15 16 17 18      12 13 14 15 16 17 18       9 10 11 12 13 14 15      14 15 16 17 18 19 20\n",
      "22 23 24 25 26 27 28      19 20 21 22 23 24 25      19 20 21 22 23 24 25      16 17 18 19 20 21 22      21 22 23 24 25 26 27\n",
      "29 30 31                  26 27 28                  26 27 28 29 30 31         23 24 25 26 27 28 29      28 29 30 31\n",
      "                                                                              30\n",
      "\n",
      "        June                      July                     August                  September                  October\n",
      "Mo Tu We Th Fr Sa Su      Mo Tu We Th Fr Sa Su      Mo Tu We Th Fr Sa Su      Mo Tu We Th Fr Sa Su      Mo Tu We Th Fr Sa Su\n",
      "             1  2  3                         1             1  2  3  4  5                      1  2       1  2  3  4  5  6  7\n",
      " 4  5  6  7  8  9 10       2  3  4  5  6  7  8       6  7  8  9 10 11 12       3  4  5  6  7  8  9       8  9 10 11 12 13 14\n",
      "11 12 13 14 15 16 17       9 10 11 12 13 14 15      13 14 15 16 17 18 19      10 11 12 13 14 15 16      15 16 17 18 19 20 21\n",
      "18 19 20 21 22 23 24      16 17 18 19 20 21 22      20 21 22 23 24 25 26      17 18 19 20 21 22 23      22 23 24 25 26 27 28\n",
      "25 26 27 28 29 30         23 24 25 26 27 28 29      27 28 29 30 31            24 25 26 27 28 29 30      29 30 31\n",
      "                          30 31\n",
      "\n",
      "      November                  December\n",
      "Mo Tu We Th Fr Sa Su      Mo Tu We Th Fr Sa Su\n",
      "          1  2  3  4                      1  2\n",
      " 5  6  7  8  9 10 11       3  4  5  6  7  8  9\n",
      "12 13 14 15 16 17 18      10 11 12 13 14 15 16\n",
      "19 20 21 22 23 24 25      17 18 19 20 21 22 23\n",
      "26 27 28 29 30            24 25 26 27 28 29 30\n",
      "                          31\n",
      "\n"
     ]
    }
   ],
   "source": [
    "# 3) Write a Python program to display calendar?\n",
    "import calendar as cal;\n",
    "\n",
    "print(cal.calendar(2018,m=5,l=1,c=6))"
   ]
  },
  {
   "cell_type": "code",
   "execution_count": 22,
   "metadata": {},
   "outputs": [],
   "source": [
    "# 4)Write a Python program to solve quadratic equation?"
   ]
  },
  {
   "cell_type": "code",
   "execution_count": null,
   "metadata": {},
   "outputs": [],
   "source": []
  },
  {
   "cell_type": "code",
   "execution_count": 21,
   "metadata": {},
   "outputs": [
    {
     "name": "stdout",
     "output_type": "stream",
     "text": [
      "Before Swap A 10 B20\n",
      "After Swap A 20 B10\n"
     ]
    }
   ],
   "source": [
    "#5 )Write a Python program to swap two variables without temp variable?\n",
    "a = 10;\n",
    "b = 20;\n",
    "print('Before Swap A {0} B{1}'.format(a,b));\n",
    "a = a+b;\n",
    "b = a-b;\n",
    "a = a -b;\n",
    "print('After Swap A {0} B{1}'.format(a,b));"
   ]
  }
 ],
 "metadata": {
  "kernelspec": {
   "display_name": "Python 3",
   "language": "python",
   "name": "python3"
  },
  "language_info": {
   "codemirror_mode": {
    "name": "ipython",
    "version": 3
   },
   "file_extension": ".py",
   "mimetype": "text/x-python",
   "name": "python",
   "nbconvert_exporter": "python",
   "pygments_lexer": "ipython3",
   "version": "3.8.5"
  }
 },
 "nbformat": 4,
 "nbformat_minor": 4
}
