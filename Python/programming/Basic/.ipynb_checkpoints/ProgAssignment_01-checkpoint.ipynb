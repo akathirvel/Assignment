{
 "cells": [
  {
   "cell_type": "code",
   "execution_count": 2,
   "metadata": {},
   "outputs": [
    {
     "name": "stdout",
     "output_type": "stream",
     "text": [
      "Hello Python\n"
     ]
    }
   ],
   "source": [
    "# 1) Write a Python program to print &quot;Hello Python&quot;?\n",
    "print(\"Hello Python\");"
   ]
  },
  {
   "cell_type": "code",
   "execution_count": 4,
   "metadata": {},
   "outputs": [
    {
     "name": "stdout",
     "output_type": "stream",
     "text": [
      "Sum of A and B :: 12\n",
      "Division :: 5.0\n"
     ]
    }
   ],
   "source": [
    "# 2 )Write a Python program to do arithmetical operations addition and division.?\n",
    "a,b = 10,2;\n",
    "#Addition\n",
    "print('Sum of A and B ::',a+b);\n",
    "#Division\n",
    "print('Division ::',a/b);"
   ]
  },
  {
   "cell_type": "code",
   "execution_count": 5,
   "metadata": {},
   "outputs": [
    {
     "name": "stdout",
     "output_type": "stream",
     "text": [
      "Triangle Area 30.0\n"
     ]
    }
   ],
   "source": [
    "# 3 Write a Python program to find the area of a triangle?\n",
    "# Formual A = (Height * Base)/2\n",
    "height = 12\n",
    "base = 5\n",
    "area = (height * base)/2;\n",
    "print ('Triangle Area',area);"
   ]
  },
  {
   "cell_type": "code",
   "execution_count": 7,
   "metadata": {},
   "outputs": [
    {
     "name": "stdout",
     "output_type": "stream",
     "text": [
      "Before swap a  is 10 & b is 15\n",
      "after swap  a  is 15 & b is 10\n"
     ]
    }
   ],
   "source": [
    "# 4 ) Write a Python program to swap two variables?\n",
    "a = 10;\n",
    "b = 15;\n",
    "print ('Before swap a  is {} & b is {}'.format(a,b));\n",
    "a =a +b;\n",
    "b = a-b;\n",
    "a = a-b;\n",
    "print ('after swap  a  is {} & b is {}'.format(a,b));"
   ]
  },
  {
   "cell_type": "code",
   "execution_count": 12,
   "metadata": {},
   "outputs": [
    {
     "name": "stdout",
     "output_type": "stream",
     "text": [
      "Randon number  36\n"
     ]
    }
   ],
   "source": [
    "import numpy as np\n",
    "print('Randon number ', np.random.randint(100))"
   ]
  },
  {
   "cell_type": "code",
   "execution_count": null,
   "metadata": {},
   "outputs": [],
   "source": []
  }
 ],
 "metadata": {
  "kernelspec": {
   "display_name": "Python 3",
   "language": "python",
   "name": "python3"
  },
  "language_info": {
   "codemirror_mode": {
    "name": "ipython",
    "version": 3
   },
   "file_extension": ".py",
   "mimetype": "text/x-python",
   "name": "python",
   "nbconvert_exporter": "python",
   "pygments_lexer": "ipython3",
   "version": "3.8.5"
  }
 },
 "nbformat": 4,
 "nbformat_minor": 4
}
