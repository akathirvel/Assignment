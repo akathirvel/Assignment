{
 "cells": [
  {
   "cell_type": "code",
   "execution_count": 42,
   "metadata": {},
   "outputs": [
    {
     "name": "stdout",
     "output_type": "stream",
     "text": [
      "No Key Found 3  consisder as 0\n",
      "No Key Found 1  consisder as 0\n",
      "['#', '#', 3, '!!!', 1]  Score is  5\n",
      "['!', '!!', '!!!', 'X']  Score is  0\n"
     ]
    }
   ],
   "source": [
    "score_dist = {\n",
    "    '#':5,'O':3,'X':1,'!':-1,'!!':-3,'!!!':-5\n",
    "    \n",
    "}\n",
    "''' \n",
    "return SYMBOL score , if  SYMBOL is  avalaible in Disctory\n",
    "return 0 if SYMBOL us not avalaible  - Handling the Error\n",
    "'''\n",
    "def get_symbol_score(symbol: str) -> int:\n",
    "    x = 0;\n",
    "    try:\n",
    "        x = score_dist[symbol];\n",
    "    except KeyError:\n",
    "        print('No Key Found',symbol,' & consisder as 0')\n",
    "    return x;\n",
    "\n",
    "def calculate_the_total_score(sourceList :list) -> None :\n",
    "    if (type(sourceList) == list ):\n",
    "        for subList in sourceList:\n",
    "            if (type(subList) == list ):\n",
    "                finalScore = 0;\n",
    "                for item in subList:\n",
    "                    finalScore = finalScore + get_symbol_score(item);\n",
    "                print(subList ,' Score is ',max([finalScore,0]))\n",
    "                \n",
    "calculate_the_total_score([['#','#',3,'!!!',1],['!','!!','!!!','X']]);"
   ]
  },
  {
   "cell_type": "code",
   "execution_count": null,
   "metadata": {},
   "outputs": [],
   "source": []
  }
 ],
 "metadata": {
  "kernelspec": {
   "display_name": "Python 3",
   "language": "python",
   "name": "python3"
  },
  "language_info": {
   "codemirror_mode": {
    "name": "ipython",
    "version": 3
   },
   "file_extension": ".py",
   "mimetype": "text/x-python",
   "name": "python",
   "nbconvert_exporter": "python",
   "pygments_lexer": "ipython3",
   "version": "3.8.5"
  }
 },
 "nbformat": 4,
 "nbformat_minor": 4
}
